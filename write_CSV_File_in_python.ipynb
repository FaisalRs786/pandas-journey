{
  "nbformat": 4,
  "nbformat_minor": 0,
  "metadata": {
    "colab": {
      "provenance": []
    },
    "kernelspec": {
      "name": "python3",
      "display_name": "Python 3"
    },
    "language_info": {
      "name": "python"
    }
  },
  "cells": [
    {
      "cell_type": "markdown",
      "source": [
        "**WRITE CSV FILE USING TO_CVS FUNCTION**"
      ],
      "metadata": {
        "id": "ZIWoMSyzW--M"
      }
    },
    {
      "cell_type": "code",
      "source": [
        "# HERE I CREATE CSV FILE FROM DATAFRAME\n",
        "import pandas as pd\n",
        "dic_var = {'languages':['python','java','c','c++','kotlin','c#','javascript','php'],\n",
        "           'rankings':[1,2,8,6,5,7,3,4],\n",
        "           'popularity':[1,4,5,6,8,2,3,7],\n",
        "           'salary':[100,200,300,400,500,600,700,800]}\n",
        "dt_frame = pd.DataFrame(dic_var)\n",
        "# our data frame is ready\n",
        "print(dt_frame)\n",
        "\n",
        "# now convert this datframe in to csv file\n",
        "# ........func....name of csv file............\n",
        "dt_frame.to_csv(\"testcsv\", header =[1,2,3,4])\n",
        "\n"
      ],
      "metadata": {
        "colab": {
          "base_uri": "https://localhost:8080/"
        },
        "collapsed": true,
        "id": "Z6cNe_syXZuX",
        "outputId": "0ed85489-fae1-4bcb-f7da-112331778e0e"
      },
      "execution_count": 17,
      "outputs": [
        {
          "output_type": "stream",
          "name": "stdout",
          "text": [
            "    languages  rankings  popularity  salary\n",
            "0      python         1           1     100\n",
            "1        java         2           4     200\n",
            "2           c         8           5     300\n",
            "3         c++         6           6     400\n",
            "4      kotlin         5           8     500\n",
            "5          c#         7           2     600\n",
            "6  javascript         3           3     700\n",
            "7         php         4           7     800\n"
          ]
        }
      ]
    }
  ]
}