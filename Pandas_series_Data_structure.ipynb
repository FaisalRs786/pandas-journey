{
  "nbformat": 4,
  "nbformat_minor": 0,
  "metadata": {
    "colab": {
      "provenance": []
    },
    "kernelspec": {
      "name": "python3",
      "display_name": "Python 3"
    },
    "language_info": {
      "name": "python"
    }
  },
  "cells": [
    {
      "cell_type": "markdown",
      "source": [
        "**SERIES DATA STRUCTURE**"
      ],
      "metadata": {
        "id": "mqES50UtF7Ic"
      }
    },
    {
      "cell_type": "code",
      "execution_count": 18,
      "metadata": {
        "id": "spWwDXBLFXrA"
      },
      "outputs": [],
      "source": [
        "import pandas as pd"
      ]
    },
    {
      "cell_type": "code",
      "source": [
        "srs_var = pd.Series(1)\n",
        "srs_var"
      ],
      "metadata": {
        "colab": {
          "base_uri": "https://localhost:8080/",
          "height": 115
        },
        "collapsed": true,
        "id": "IKThMuURHBBn",
        "outputId": "9f574b68-85bf-4b1f-8a82-a39ad971749d"
      },
      "execution_count": 69,
      "outputs": [
        {
          "output_type": "execute_result",
          "data": {
            "text/plain": [
              "0    1\n",
              "dtype: int64"
            ],
            "text/html": [
              "<div>\n",
              "<style scoped>\n",
              "    .dataframe tbody tr th:only-of-type {\n",
              "        vertical-align: middle;\n",
              "    }\n",
              "\n",
              "    .dataframe tbody tr th {\n",
              "        vertical-align: top;\n",
              "    }\n",
              "\n",
              "    .dataframe thead th {\n",
              "        text-align: right;\n",
              "    }\n",
              "</style>\n",
              "<table border=\"1\" class=\"dataframe\">\n",
              "  <thead>\n",
              "    <tr style=\"text-align: right;\">\n",
              "      <th></th>\n",
              "      <th>0</th>\n",
              "    </tr>\n",
              "  </thead>\n",
              "  <tbody>\n",
              "    <tr>\n",
              "      <th>0</th>\n",
              "      <td>1</td>\n",
              "    </tr>\n",
              "  </tbody>\n",
              "</table>\n",
              "</div><br><label><b>dtype:</b> int64</label>"
            ]
          },
          "metadata": {},
          "execution_count": 69
        }
      ]
    },
    {
      "cell_type": "markdown",
      "source": [
        "index give the index to the rows it is by default 0ton\n",
        "and name parameter gives the name to our data"
      ],
      "metadata": {
        "id": "GyY8sjzuWNCD"
      }
    },
    {
      "cell_type": "code",
      "source": [
        "lst = [1,2,3,4,5]\n",
        "srs_var1 = pd.Series(lst , index = [ 'a','b','c','d','e'] , name= \"marks\")\n",
        "print(srs_var1)\n",
        "print(type(srs_var1))"
      ],
      "metadata": {
        "colab": {
          "base_uri": "https://localhost:8080/"
        },
        "collapsed": true,
        "id": "Pa1X_1olH6hB",
        "outputId": "3e923ebc-b162-4319-d27e-acee99adcf4f"
      },
      "execution_count": 67,
      "outputs": [
        {
          "output_type": "stream",
          "name": "stdout",
          "text": [
            "a    1\n",
            "b    2\n",
            "c    3\n",
            "d    4\n",
            "e    5\n",
            "Name: marks, dtype: int64\n",
            "<class 'pandas.core.series.Series'>\n"
          ]
        }
      ]
    },
    {
      "cell_type": "markdown",
      "source": [
        "in this i pass the index to give indexes to the lst1 whole data"
      ],
      "metadata": {
        "id": "Obo-3pnAWern"
      }
    },
    {
      "cell_type": "code",
      "source": [
        "lst1 = [1,2,3,4,5, \"python\",\"java\",\"c++\",\"C\",\"kotlin\"]\n",
        "srs_var2 = pd.Series(lst1, index = [ 'a','b','c','d','e','f', 'g','h','i','j'])\n",
        "print(srs_var2)"
      ],
      "metadata": {
        "colab": {
          "base_uri": "https://localhost:8080/"
        },
        "id": "SmSHv4VFIi7S",
        "outputId": "e46a2096-d507-4537-be14-7d779c353f9d"
      },
      "execution_count": 68,
      "outputs": [
        {
          "output_type": "stream",
          "name": "stdout",
          "text": [
            "a         1\n",
            "b         2\n",
            "c         3\n",
            "d         4\n",
            "e         5\n",
            "f    python\n",
            "g      java\n",
            "h       c++\n",
            "i         C\n",
            "j    kotlin\n",
            "dtype: object\n"
          ]
        }
      ]
    },
    {
      "cell_type": "markdown",
      "source": [
        "in this it works as lst2 is the data and lst3 are the indexes"
      ],
      "metadata": {
        "id": "E83j_KGxX8Ts"
      }
    },
    {
      "cell_type": "code",
      "source": [
        "lst2 = [1,2,3,4,5]\n",
        "lst3 =[ \"python\",\"java\",\"c++\",\"C\",\"kotlin\"]\n",
        "srs_var3 = pd.Series(lst2,lst3)\n",
        "print(srs_var3)"
      ],
      "metadata": {
        "colab": {
          "base_uri": "https://localhost:8080/"
        },
        "id": "N5-3L_MAPFhs",
        "outputId": "2ef412e3-3aba-447a-9118-c31a65379afe"
      },
      "execution_count": 74,
      "outputs": [
        {
          "output_type": "stream",
          "name": "stdout",
          "text": [
            "python    1\n",
            "java      2\n",
            "c++       3\n",
            "C         4\n",
            "kotlin    5\n",
            "dtype: int64\n"
          ]
        }
      ]
    },
    {
      "cell_type": "markdown",
      "source": [
        "it is works same as upper code here i use index parameter to set lst3 are indexes"
      ],
      "metadata": {
        "id": "Ii9kDJkOYNbT"
      }
    },
    {
      "cell_type": "code",
      "source": [
        "srs_var4 = pd.Series(lst2 ,index = lst3)\n",
        "print(srs_var4)"
      ],
      "metadata": {
        "colab": {
          "base_uri": "https://localhost:8080/"
        },
        "collapsed": true,
        "id": "DEfA9jtvV4O2",
        "outputId": "a5623daa-ae26-4f14-e3d9-6c52acab2bdb"
      },
      "execution_count": 77,
      "outputs": [
        {
          "output_type": "stream",
          "name": "stdout",
          "text": [
            "python    1\n",
            "java      2\n",
            "c++       3\n",
            "C         4\n",
            "kotlin    5\n",
            "dtype: int64\n"
          ]
        }
      ]
    },
    {
      "cell_type": "markdown",
      "source": [
        "***here i create series using dictionary ***"
      ],
      "metadata": {
        "id": "uvYgMiwxZGLf"
      }
    },
    {
      "cell_type": "code",
      "source": [
        "dic2 = {'name':['python','java','c++','c'],\n",
        "        'popularity':[1,2,4,3],\n",
        "        'rank':[1,2,3,4]}\n",
        "srs_var5 = pd.Series(dic2)\n",
        "print(srs_var5)"
      ],
      "metadata": {
        "colab": {
          "base_uri": "https://localhost:8080/"
        },
        "id": "zEOK3XLPaUpi",
        "outputId": "089ffaf7-b899-46dd-f055-a52aa8616c5e"
      },
      "execution_count": 83,
      "outputs": [
        {
          "output_type": "stream",
          "name": "stdout",
          "text": [
            "name          [python, java, c++]\n",
            "popularity           [1, 2, 4, 3]\n",
            "rank                 [1, 2, 3, 4]\n",
            "dtype: object\n"
          ]
        }
      ]
    },
    {
      "cell_type": "code",
      "source": [
        "dic1 = {'A':1,\n",
        "        'B':6,\n",
        "        'C':11}\n",
        "srs_var4 = pd.Series(dic1)\n",
        "print(srs_var4)\n",
        "\n"
      ],
      "metadata": {
        "colab": {
          "base_uri": "https://localhost:8080/"
        },
        "id": "j4-1ixdHY5Nj",
        "outputId": "e2cb4dcb-770b-4479-a725-049d7cb42a79"
      },
      "execution_count": 88,
      "outputs": [
        {
          "output_type": "stream",
          "name": "stdout",
          "text": [
            "A     1\n",
            "B     6\n",
            "C    11\n",
            "dtype: int64\n"
          ]
        }
      ]
    },
    {
      "cell_type": "code",
      "source": [
        "new_srs = pd.Series([1,2,3,4,5,6,7,8,9,0])\n",
        "print(new_srs)"
      ],
      "metadata": {
        "colab": {
          "base_uri": "https://localhost:8080/"
        },
        "id": "043PZyj1dxPv",
        "outputId": "39911915-4aac-41c9-eb70-fad34d402fd9"
      },
      "execution_count": 95,
      "outputs": [
        {
          "output_type": "stream",
          "name": "stdout",
          "text": [
            "0    1\n",
            "1    2\n",
            "2    3\n",
            "3    4\n",
            "4    5\n",
            "5    6\n",
            "6    7\n",
            "7    8\n",
            "8    9\n",
            "9    0\n",
            "dtype: int64\n"
          ]
        }
      ]
    },
    {
      "cell_type": "markdown",
      "source": [
        "***here i can chnge values of new_srs index 0,2,4 by 100 ***"
      ],
      "metadata": {
        "id": "ihYPhHLRi0zt"
      }
    },
    {
      "cell_type": "code",
      "source": [
        "# prompt: update my upper cell new_srs series in to where index are 0,2,4 the value is 100\n",
        "\n",
        "new_srs.loc[[0,2,4]] = 100\n",
        "new_srs"
      ],
      "metadata": {
        "colab": {
          "base_uri": "https://localhost:8080/",
          "height": 397
        },
        "id": "VsirMyMZeAVh",
        "outputId": "cfa901ec-5603-4994-a9dc-afbc88fb56f9"
      },
      "execution_count": 96,
      "outputs": [
        {
          "output_type": "execute_result",
          "data": {
            "text/plain": [
              "0    100\n",
              "1      2\n",
              "2    100\n",
              "3      4\n",
              "4    100\n",
              "5      6\n",
              "6      7\n",
              "7      8\n",
              "8      9\n",
              "9      0\n",
              "dtype: int64"
            ],
            "text/html": [
              "<div>\n",
              "<style scoped>\n",
              "    .dataframe tbody tr th:only-of-type {\n",
              "        vertical-align: middle;\n",
              "    }\n",
              "\n",
              "    .dataframe tbody tr th {\n",
              "        vertical-align: top;\n",
              "    }\n",
              "\n",
              "    .dataframe thead th {\n",
              "        text-align: right;\n",
              "    }\n",
              "</style>\n",
              "<table border=\"1\" class=\"dataframe\">\n",
              "  <thead>\n",
              "    <tr style=\"text-align: right;\">\n",
              "      <th></th>\n",
              "      <th>0</th>\n",
              "    </tr>\n",
              "  </thead>\n",
              "  <tbody>\n",
              "    <tr>\n",
              "      <th>0</th>\n",
              "      <td>100</td>\n",
              "    </tr>\n",
              "    <tr>\n",
              "      <th>1</th>\n",
              "      <td>2</td>\n",
              "    </tr>\n",
              "    <tr>\n",
              "      <th>2</th>\n",
              "      <td>100</td>\n",
              "    </tr>\n",
              "    <tr>\n",
              "      <th>3</th>\n",
              "      <td>4</td>\n",
              "    </tr>\n",
              "    <tr>\n",
              "      <th>4</th>\n",
              "      <td>100</td>\n",
              "    </tr>\n",
              "    <tr>\n",
              "      <th>5</th>\n",
              "      <td>6</td>\n",
              "    </tr>\n",
              "    <tr>\n",
              "      <th>6</th>\n",
              "      <td>7</td>\n",
              "    </tr>\n",
              "    <tr>\n",
              "      <th>7</th>\n",
              "      <td>8</td>\n",
              "    </tr>\n",
              "    <tr>\n",
              "      <th>8</th>\n",
              "      <td>9</td>\n",
              "    </tr>\n",
              "    <tr>\n",
              "      <th>9</th>\n",
              "      <td>0</td>\n",
              "    </tr>\n",
              "  </tbody>\n",
              "</table>\n",
              "</div><br><label><b>dtype:</b> int64</label>"
            ]
          },
          "metadata": {},
          "execution_count": 96
        }
      ]
    },
    {
      "cell_type": "code",
      "source": [
        "names = ['a','b','c','d']\n",
        "age = [1,2,3,4,5]\n",
        "data_var = {'name':names,\n",
        "            'age':age}\n",
        "series_var = pd.Series(data_var)\n",
        "print(series_var)"
      ],
      "metadata": {
        "colab": {
          "base_uri": "https://localhost:8080/"
        },
        "id": "a1qhNWcVjjrr",
        "outputId": "753a64e6-fd65-4461-a659-695379486e1f"
      },
      "execution_count": 112,
      "outputs": [
        {
          "output_type": "stream",
          "name": "stdout",
          "text": [
            "name       [a, b, c, d]\n",
            "age     [1, 2, 3, 4, 5]\n",
            "dtype: object\n"
          ]
        }
      ]
    },
    {
      "cell_type": "markdown",
      "source": [
        "**ADDING SERIES**"
      ],
      "metadata": {
        "id": "AtuvOZ2uri7s"
      }
    },
    {
      "cell_type": "code",
      "source": [
        "s1 = pd.Series(10 , index = [1,2,3,4,5])\n",
        "s2 = pd.Series(20, index = [1,2,3,4,5])\n",
        "print(s1+s2)"
      ],
      "metadata": {
        "colab": {
          "base_uri": "https://localhost:8080/"
        },
        "id": "ETiJFDgSrnrh",
        "outputId": "8aa29e38-21fd-498d-93d9-db63f3fc8201"
      },
      "execution_count": 114,
      "outputs": [
        {
          "output_type": "stream",
          "name": "stdout",
          "text": [
            "1    30\n",
            "2    30\n",
            "3    30\n",
            "4    30\n",
            "5    30\n",
            "dtype: int64\n"
          ]
        }
      ]
    },
    {
      "cell_type": "code",
      "source": [
        "s1 = pd.Series(10 , index = [1,2,3,4,5])\n",
        "s2 = pd.Series(20, index = [1,2,3,4])\n",
        "print(s1+s2)"
      ],
      "metadata": {
        "colab": {
          "base_uri": "https://localhost:8080/"
        },
        "id": "2UId0ESksWl8",
        "outputId": "79ab535b-ec60-4ee4-d3fa-df79201a206a"
      },
      "execution_count": 115,
      "outputs": [
        {
          "output_type": "stream",
          "name": "stdout",
          "text": [
            "1    30.0\n",
            "2    30.0\n",
            "3    30.0\n",
            "4    30.0\n",
            "5     NaN\n",
            "dtype: float64\n"
          ]
        }
      ]
    },
    {
      "cell_type": "code",
      "source": [
        "s1 = pd.Series(10 , index = [1,2,3,4,5])\n",
        "s2 = pd.Series(20, index = [6,7,8,9,0])\n",
        "print(s1+s2)"
      ],
      "metadata": {
        "colab": {
          "base_uri": "https://localhost:8080/"
        },
        "id": "S7F2PxRjsdiB",
        "outputId": "4da5815a-79b5-4b5b-a456-9cf2cd287090"
      },
      "execution_count": 116,
      "outputs": [
        {
          "output_type": "stream",
          "name": "stdout",
          "text": [
            "0   NaN\n",
            "1   NaN\n",
            "2   NaN\n",
            "3   NaN\n",
            "4   NaN\n",
            "5   NaN\n",
            "6   NaN\n",
            "7   NaN\n",
            "8   NaN\n",
            "9   NaN\n",
            "dtype: float64\n"
          ]
        }
      ]
    }
  ]
}