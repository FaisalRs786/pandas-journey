{
  "nbformat": 4,
  "nbformat_minor": 0,
  "metadata": {
    "colab": {
      "provenance": []
    },
    "kernelspec": {
      "name": "python3",
      "display_name": "Python 3"
    },
    "language_info": {
      "name": "python"
    }
  },
  "cells": [
    {
      "cell_type": "markdown",
      "source": [
        "**WORK WITH DATAFRAME STRUCTURE**"
      ],
      "metadata": {
        "id": "wlhd0MrptdBd"
      }
    },
    {
      "cell_type": "markdown",
      "source": [
        "CREATE DATA FRAME SYNTAX"
      ],
      "metadata": {
        "id": "IRQCCeevtvMe"
      }
    },
    {
      "cell_type": "code",
      "source": [
        "import pandas as pd\n",
        "dt_frame_var = pd.DataFrame([20])\n",
        "print(dt_frame_var)"
      ],
      "metadata": {
        "colab": {
          "base_uri": "https://localhost:8080/"
        },
        "id": "PEp4eLAmtqo8",
        "outputId": "1425e9c3-ccc7-4887-fcfa-db0db01e9fdf"
      },
      "execution_count": null,
      "outputs": [
        {
          "output_type": "stream",
          "name": "stdout",
          "text": [
            "    0\n",
            "0  20\n"
          ]
        }
      ]
    },
    {
      "cell_type": "markdown",
      "source": [
        "**create dataframe using list**"
      ],
      "metadata": {
        "id": "636UshtBye-8"
      }
    },
    {
      "cell_type": "code",
      "source": [
        "lst = [1,2,3,4,5]\n",
        "dt_frame_var = pd.DataFrame(lst)\n",
        "print(dt_frame_var)"
      ],
      "metadata": {
        "colab": {
          "base_uri": "https://localhost:8080/"
        },
        "id": "P1D_LY3-yi4c",
        "outputId": "a4d023a8-b65e-4a3a-e81e-a687c4221c77"
      },
      "execution_count": null,
      "outputs": [
        {
          "output_type": "stream",
          "name": "stdout",
          "text": [
            "   0\n",
            "0  1\n",
            "1  2\n",
            "2  3\n",
            "3  4\n",
            "4  5\n"
          ]
        }
      ]
    },
    {
      "cell_type": "markdown",
      "source": [
        "here lst2 work as indexes"
      ],
      "metadata": {
        "id": "cSmlGyHkzWPz"
      }
    },
    {
      "cell_type": "code",
      "source": [
        "lst1 = [1,2,3,4,5]\n",
        "lst2 = [6,7,8,9,0]\n",
        "dt_frame_var1 = pd.DataFrame(lst1,lst2, columns = [\"colum1\"])\n",
        "print(dt_frame_var1)"
      ],
      "metadata": {
        "colab": {
          "base_uri": "https://localhost:8080/"
        },
        "id": "CzmSCRgyy8VI",
        "outputId": "eda97a7a-a91d-4967-f8fc-97c000a9d2cc"
      },
      "execution_count": null,
      "outputs": [
        {
          "output_type": "stream",
          "name": "stdout",
          "text": [
            "   colum1\n",
            "6       1\n",
            "7       2\n",
            "8       3\n",
            "9       4\n",
            "0       5\n"
          ]
        }
      ]
    },
    {
      "cell_type": "code",
      "source": [
        "dt_frame_var2 = pd.DataFrame(lst1+lst2 , columns = [\"data\"])\n",
        "print(dt_frame_var2)"
      ],
      "metadata": {
        "colab": {
          "base_uri": "https://localhost:8080/"
        },
        "id": "ZNvHtnmozajx",
        "outputId": "cf128d2a-73de-429d-e498-dedad6d6b4e2"
      },
      "execution_count": null,
      "outputs": [
        {
          "output_type": "stream",
          "name": "stdout",
          "text": [
            "   data\n",
            "0     1\n",
            "1     2\n",
            "2     3\n",
            "3     4\n",
            "4     5\n",
            "5     6\n",
            "6     7\n",
            "7     8\n",
            "8     9\n",
            "9     0\n"
          ]
        }
      ]
    },
    {
      "cell_type": "markdown",
      "source": [
        "**CREATE DATAFRAME BY USING DICTIONARY**"
      ],
      "metadata": {
        "id": "8yCf-W0y1riw"
      }
    },
    {
      "cell_type": "code",
      "source": [
        "# these must be A and B are equal\n",
        "dic1 = {'A':[1,2,3,4,5],\n",
        "        'B':[6,7,8,9,0]}\n",
        "dt_frame_var4 = pd.DataFrame(dic1)\n",
        "print(dt_frame_var4)"
      ],
      "metadata": {
        "colab": {
          "base_uri": "https://localhost:8080/"
        },
        "id": "7sICeTOm15OU",
        "outputId": "678d0a2e-0d5a-4187-8265-79a7a137ba29"
      },
      "execution_count": null,
      "outputs": [
        {
          "output_type": "stream",
          "name": "stdout",
          "text": [
            "   A  B\n",
            "0  1  6\n",
            "1  2  7\n",
            "2  3  8\n",
            "3  4  9\n",
            "4  5  0\n"
          ]
        }
      ]
    },
    {
      "cell_type": "markdown",
      "source": [
        "**we can get particular data of column using columns parameter**"
      ],
      "metadata": {
        "id": "Gv7u4mz83ZNV"
      }
    },
    {
      "cell_type": "code",
      "source": [
        "dt_frame_var4 = pd.DataFrame(dic1,columns =['A'])\n",
        "print(dt_frame_var4)\n",
        "\n",
        "# we can also get data of particular row and particular column as\n",
        "print(\"here we get particular out of row and column\")\n",
        "# ............coulmn,row.....\n",
        "dt_frame_var4['A'][2]\n"
      ],
      "metadata": {
        "colab": {
          "base_uri": "https://localhost:8080/"
        },
        "collapsed": true,
        "id": "8OyUasX_2neC",
        "outputId": "638a1b2d-5d76-4b64-847d-962c5a6dcff4"
      },
      "execution_count": null,
      "outputs": [
        {
          "output_type": "stream",
          "name": "stdout",
          "text": [
            "   A\n",
            "0  1\n",
            "1  2\n",
            "2  3\n",
            "3  4\n",
            "4  5\n",
            "here we get particular out of row and column\n"
          ]
        },
        {
          "output_type": "execute_result",
          "data": {
            "text/plain": [
              "3"
            ]
          },
          "metadata": {},
          "execution_count": 23
        }
      ]
    },
    {
      "cell_type": "markdown",
      "source": [
        "create dataframe through list of lists\n"
      ],
      "metadata": {
        "id": "5yshcHao4-W7"
      }
    },
    {
      "cell_type": "code",
      "source": [
        "lstvar = [['python','c++','c','java','kotlin'], [1,2,3,4,5]]\n",
        "dt_frame_var6 = pd.DataFrame(lstvar, index = ['language','rank'], columns = [1,2,3,4,5])\n",
        "print(dt_frame_var6)"
      ],
      "metadata": {
        "id": "rRcQ7gsK5El4"
      },
      "execution_count": null,
      "outputs": []
    },
    {
      "cell_type": "code",
      "source": [
        "dic2 = {'languages':['python', 'c++','c','java','kotlin'],\n",
        "        'ranks':[1,2,3,4,5],\n",
        "        'popularity':[1,3,5,2,4]}\n",
        "dt_frame_var7 = pd.DataFrame(dic2)\n",
        "print(dt_frame_var7)"
      ],
      "metadata": {
        "id": "M06MI6wv-J6D"
      },
      "execution_count": null,
      "outputs": []
    },
    {
      "cell_type": "markdown",
      "source": [
        "CREATE DATAFRAME BY SERIES DATASTRUCTURE"
      ],
      "metadata": {
        "id": "BMTe8fY1_MWH"
      }
    },
    {
      "cell_type": "code",
      "source": [
        "sr_var = {\"name\":pd.Series(['python', 'c++','c','java','kotlin']),\n",
        "          \"rank\":pd.Series([1,2,3,4,5]),\n",
        "          \"popularity\":pd.Series([1,3,4,2,5])}\n",
        "dt_frame_var8 = pd.DataFrame(sr_var)\n",
        "print(dt_frame_var8)\n",
        "#print a particular column\n",
        "print('print a particular column')\n",
        "print(dt_frame_var8['name'])\n",
        "# print a particular row and column\n",
        "print(' print a particular row and column')\n",
        "print(dt_frame_var8['name'][1])"
      ],
      "metadata": {
        "collapsed": true,
        "colab": {
          "base_uri": "https://localhost:8080/"
        },
        "id": "Rpc0kVRJ_MDZ",
        "outputId": "1405270c-36f4-4483-a986-fa8842b020d9"
      },
      "execution_count": null,
      "outputs": [
        {
          "output_type": "stream",
          "name": "stdout",
          "text": [
            "     name  rank  popularity\n",
            "0  python     1           1\n",
            "1     c++     2           3\n",
            "2       c     3           4\n",
            "3    java     4           2\n",
            "4  kotlin     5           5\n",
            "print a particular column\n",
            "0    python\n",
            "1       c++\n",
            "2         c\n",
            "3      java\n",
            "4    kotlin\n",
            "Name: name, dtype: object\n",
            " print a particular row and column\n",
            "c++\n"
          ]
        }
      ]
    },
    {
      "cell_type": "markdown",
      "source": [
        "**PERFORM ARTHMETIC OPERATIONS**"
      ],
      "metadata": {
        "id": "RhpQMzScCSP8"
      }
    },
    {
      "cell_type": "code",
      "source": [
        "# ADD TWO COLUMNS OF DATAFRAMES\n",
        "VAR1 = {\"A\":[1,2,3,4,5],\n",
        "        \"B\":[6,7,8,9,0],\n",
        "        \"C\":[11,12,13,14,15]}\n",
        "dt_frame_var9 = pd.DataFrame(VAR1)\n",
        "print(dt_frame_var9['A']+dt_frame_var9['B'])\n",
        "\n",
        "# subtract TWO COLUMNS OF DATAFRAMES\n",
        "print(dt_frame_var9['B']-dt_frame_var9['C'])\n",
        "\n",
        "# multiply TWO COLUMNS OF DATAFRAMES\n",
        "print(dt_frame_var9['A']*dt_frame_var9['B'])\n",
        "\n",
        "# devide TWO COLUMNS OF DATAFRAMES\n",
        "print(dt_frame_var9['A']/dt_frame_var9['B'])\n",
        "\n",
        "# we can see it does not effect the original dataframe\n",
        "print(dt_frame_var9)\n",
        "# but if we do like this to subtract or perform any arthmetic operation and make it new column as\n",
        "# here i create new column D which is addition of column A and B\n",
        "dt_frame_var9['D']= dt_frame_var9['A']+dt_frame_var9['B']\n",
        "print(dt_frame_var9)\n",
        "dt_frame_var9['E'] = dt_frame_var9['C']/dt_frame_var9['D']\n",
        "print(dt_frame_var9)\n",
        "\n",
        "# we can check condition of column or between two column as\n",
        "dt_frame_var9['F'] = dt_frame_var9['A'] <= 3\n",
        "print(dt_frame_var9)"
      ],
      "metadata": {
        "colab": {
          "base_uri": "https://localhost:8080/"
        },
        "collapsed": true,
        "id": "cVbhS78ACae0",
        "outputId": "f9639514-8b96-4c2c-b0db-145eb1dba020"
      },
      "execution_count": null,
      "outputs": [
        {
          "output_type": "stream",
          "name": "stdout",
          "text": [
            "0     7\n",
            "1     9\n",
            "2    11\n",
            "3    13\n",
            "4     5\n",
            "dtype: int64\n",
            "0    -5\n",
            "1    -5\n",
            "2    -5\n",
            "3    -5\n",
            "4   -15\n",
            "dtype: int64\n",
            "0     6\n",
            "1    14\n",
            "2    24\n",
            "3    36\n",
            "4     0\n",
            "dtype: int64\n",
            "0    0.166667\n",
            "1    0.285714\n",
            "2    0.375000\n",
            "3    0.444444\n",
            "4         inf\n",
            "dtype: float64\n",
            "   A  B   C\n",
            "0  1  6  11\n",
            "1  2  7  12\n",
            "2  3  8  13\n",
            "3  4  9  14\n",
            "4  5  0  15\n",
            "   A  B   C   D\n",
            "0  1  6  11   7\n",
            "1  2  7  12   9\n",
            "2  3  8  13  11\n",
            "3  4  9  14  13\n",
            "4  5  0  15   5\n",
            "   A  B   C   D         E\n",
            "0  1  6  11   7  1.571429\n",
            "1  2  7  12   9  1.333333\n",
            "2  3  8  13  11  1.181818\n",
            "3  4  9  14  13  1.076923\n",
            "4  5  0  15   5  3.000000\n",
            "   A  B   C   D         E      F\n",
            "0  1  6  11   7  1.571429   True\n",
            "1  2  7  12   9  1.333333   True\n",
            "2  3  8  13  11  1.181818   True\n",
            "3  4  9  14  13  1.076923  False\n",
            "4  5  0  15   5  3.000000  False\n"
          ]
        }
      ]
    },
    {
      "cell_type": "markdown",
      "source": [
        "**DELETE AND INSERT FUNCTION IN PYTHON**"
      ],
      "metadata": {
        "id": "3vBQBQylITYP"
      }
    },
    {
      "cell_type": "markdown",
      "source": [
        "we can insert column using INSERT function"
      ],
      "metadata": {
        "id": "RgrvSCu3JVGi"
      }
    },
    {
      "cell_type": "code",
      "source": [
        "# we have dataframe dt_frame_var9\n",
        "print(dt_frame_var9)\n",
        "# insert new column name col1\n",
        "# ...................index..colname..value.........\n",
        "dt_frame_var9.insert(4 , \"col1\" ,[10,20,30,40,50] )\n",
        "print(dt_frame_var9)"
      ],
      "metadata": {
        "colab": {
          "base_uri": "https://localhost:8080/"
        },
        "collapsed": true,
        "id": "pn5DD7PjIaIu",
        "outputId": "4f4454c2-f79a-40a0-9eb5-20435ebcb113"
      },
      "execution_count": null,
      "outputs": [
        {
          "output_type": "stream",
          "name": "stdout",
          "text": [
            "   A  B   C   D         E      F\n",
            "0  1  6  11   7  1.571429   True\n",
            "1  2  7  12   9  1.333333   True\n",
            "2  3  8  13  11  1.181818   True\n",
            "3  4  9  14  13  1.076923  False\n",
            "4  5  0  15   5  3.000000  False\n",
            "   A  B   C   D  col1         E      F\n",
            "0  1  6  11   7    10  1.571429   True\n",
            "1  2  7  12   9    20  1.333333   True\n",
            "2  3  8  13  11    30  1.181818   True\n",
            "3  4  9  14  13    40  1.076923  False\n",
            "4  5  0  15   5    50  3.000000  False\n"
          ]
        }
      ]
    },
    {
      "cell_type": "markdown",
      "source": [
        "**USING DELETE FUNCTION TO DELETE COLUMN**"
      ],
      "metadata": {
        "id": "n3T_J1eJLOB-"
      }
    },
    {
      "cell_type": "code",
      "source": [
        "# we have dataframe name dt_frame_var9\n",
        "print(dt_frame_var9)\n",
        "\n",
        "# delete column B using pop\n",
        "dt_frame_var9.pop('B')\n",
        "print(dt_frame_var9)\n",
        "\n",
        "# delete column col1 using delete function\n",
        "del dt_frame_var9['col1']\n",
        "print(dt_frame_var9)"
      ],
      "metadata": {
        "colab": {
          "base_uri": "https://localhost:8080/"
        },
        "id": "OXDeVnb7Lc8n",
        "outputId": "b5556631-4472-4cda-8ef1-6c02cfb9b014"
      },
      "execution_count": null,
      "outputs": [
        {
          "output_type": "stream",
          "name": "stdout",
          "text": [
            "   A  B   C   D  col1         E      F\n",
            "0  1  6  11   7    10  1.571429   True\n",
            "1  2  7  12   9    20  1.333333   True\n",
            "2  3  8  13  11    30  1.181818   True\n",
            "3  4  9  14  13    40  1.076923  False\n",
            "4  5  0  15   5    50  3.000000  False\n",
            "   A   C   D  col1         E      F\n",
            "0  1  11   7    10  1.571429   True\n",
            "1  2  12   9    20  1.333333   True\n",
            "2  3  13  11    30  1.181818   True\n",
            "3  4  14  13    40  1.076923  False\n",
            "4  5  15   5    50  3.000000  False\n",
            "   A   C   D         E      F\n",
            "0  1  11   7  1.571429   True\n",
            "1  2  12   9  1.333333   True\n",
            "2  3  13  11  1.181818   True\n",
            "3  4  14  13  1.076923  False\n",
            "4  5  15   5  3.000000  False\n"
          ]
        }
      ]
    }
  ]
}