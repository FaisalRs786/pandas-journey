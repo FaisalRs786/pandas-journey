{
  "nbformat": 4,
  "nbformat_minor": 0,
  "metadata": {
    "colab": {
      "provenance": []
    },
    "kernelspec": {
      "name": "python3",
      "display_name": "Python 3"
    },
    "language_info": {
      "name": "python"
    }
  },
  "cells": [
    {
      "cell_type": "markdown",
      "source": [
        "**PANDAS FUNCTION APPLY TO CSV**"
      ],
      "metadata": {
        "id": "w_2ygCcswyXs"
      }
    },
    {
      "cell_type": "code",
      "execution_count": 2,
      "metadata": {
        "colab": {
          "base_uri": "https://localhost:8080/"
        },
        "id": "iGm0XIOMwrCn",
        "outputId": "3bc69cd6-158a-4274-b660-ca5e11273b40"
      },
      "outputs": [
        {
          "output_type": "stream",
          "name": "stdout",
          "text": [
            "    languages  rankings  popularity  salary\n",
            "0      python         1           1     100\n",
            "1        java         2           4     200\n",
            "2           c         8           5     300\n",
            "3         c++         6           6     400\n",
            "4      kotlin         5           8     500\n",
            "5          c#         7           2     600\n",
            "6  javascript         3           3     700\n",
            "7         php         4           7     800\n",
            "RangeIndex(start=0, stop=8, step=1)\n"
          ]
        }
      ],
      "source": [
        "# index function give us number of indexes avialable in our dataset as\n",
        "import pandas as pd\n",
        "csv_var = pd.read_csv('/content/testcsv')\n",
        "print(csv_var)\n",
        "print(csv_var.index)"
      ]
    },
    {
      "cell_type": "code",
      "source": [
        "# column function gives the all names of column as\n",
        "print(csv_var.columns)"
      ],
      "metadata": {
        "colab": {
          "base_uri": "https://localhost:8080/"
        },
        "id": "rd84apGoz1t8",
        "outputId": "58423600-a574-4c65-f2e6-9f194a050716"
      },
      "execution_count": 6,
      "outputs": [
        {
          "output_type": "stream",
          "name": "stdout",
          "text": [
            "Index(['languages', 'rankings', 'popularity', 'salary'], dtype='object')\n"
          ]
        }
      ]
    },
    {
      "cell_type": "code",
      "source": [
        "# describe function describe the data set as\n",
        "print(csv_var.describe())"
      ],
      "metadata": {
        "colab": {
          "base_uri": "https://localhost:8080/"
        },
        "id": "1xygQ4_A0TL7",
        "outputId": "562cb5f0-cd28-43fe-d72f-40778db39563"
      },
      "execution_count": 4,
      "outputs": [
        {
          "output_type": "stream",
          "name": "stdout",
          "text": [
            "       rankings  popularity      salary\n",
            "count   8.00000     8.00000    8.000000\n",
            "mean    4.50000     4.50000  450.000000\n",
            "std     2.44949     2.44949  244.948974\n",
            "min     1.00000     1.00000  100.000000\n",
            "25%     2.75000     2.75000  275.000000\n",
            "50%     4.50000     4.50000  450.000000\n",
            "75%     6.25000     6.25000  625.000000\n",
            "max     8.00000     8.00000  800.000000\n"
          ]
        }
      ]
    },
    {
      "cell_type": "code",
      "source": [
        "# head function give only upper 5 rows of data set\n",
        "print(csv_var.head())\n",
        "\n",
        "# we can give particular number to show as\n",
        "print(csv_var.head(2))"
      ],
      "metadata": {
        "colab": {
          "base_uri": "https://localhost:8080/"
        },
        "id": "BTEZaILu0r3o",
        "outputId": "93b553af-975d-4f5b-94f0-c25d4f412154"
      },
      "execution_count": 8,
      "outputs": [
        {
          "output_type": "stream",
          "name": "stdout",
          "text": [
            "  languages  rankings  popularity  salary\n",
            "0    python         1           1     100\n",
            "1      java         2           4     200\n",
            "2         c         8           5     300\n",
            "3       c++         6           6     400\n",
            "4    kotlin         5           8     500\n",
            "  languages  rankings  popularity  salary\n",
            "0    python         1           1     100\n",
            "1      java         2           4     200\n"
          ]
        }
      ]
    },
    {
      "cell_type": "code",
      "source": [
        "# tail function gives lower rows of data set as\n",
        "print(csv_var.tail())\n",
        "\n",
        "# we can give particular number to show as\n",
        "print(csv_var.tail(2))"
      ],
      "metadata": {
        "colab": {
          "base_uri": "https://localhost:8080/"
        },
        "id": "kZ8xsz0A04rs",
        "outputId": "38da82ac-2cb4-413e-9b63-dddda1948811"
      },
      "execution_count": 9,
      "outputs": [
        {
          "output_type": "stream",
          "name": "stdout",
          "text": [
            "    languages  rankings  popularity  salary\n",
            "3         c++         6           6     400\n",
            "4      kotlin         5           8     500\n",
            "5          c#         7           2     600\n",
            "6  javascript         3           3     700\n",
            "7         php         4           7     800\n",
            "    languages  rankings  popularity  salary\n",
            "6  javascript         3           3     700\n",
            "7         php         4           7     800\n"
          ]
        }
      ]
    },
    {
      "cell_type": "code",
      "source": [
        "# we can give particular amount of data as using slicing just like string slicing\n",
        "print(csv_var[:2])\n",
        "print(csv_var[2:4])"
      ],
      "metadata": {
        "colab": {
          "base_uri": "https://localhost:8080/"
        },
        "id": "2I59oQjT1Yjk",
        "outputId": "396261b2-787c-46d8-8fc6-86f226127450"
      },
      "execution_count": 12,
      "outputs": [
        {
          "output_type": "stream",
          "name": "stdout",
          "text": [
            "  languages  rankings  popularity  salary\n",
            "0    python         1           1     100\n",
            "1      java         2           4     200\n",
            "  languages  rankings  popularity  salary\n",
            "2         c         8           5     300\n",
            "3       c++         6           6     400\n"
          ]
        }
      ]
    },
    {
      "cell_type": "code",
      "source": [
        "# we can get indexes of csv file in an array\n",
        "print(csv_var.index.array)\n",
        "\n",
        "# we can convert csv to numpy array as\n",
        "print(csv_var.to_numpy())"
      ],
      "metadata": {
        "colab": {
          "base_uri": "https://localhost:8080/"
        },
        "id": "sez8vdZT1pCA",
        "outputId": "0f97ceda-7678-45fd-b2fa-36fc96b71dac"
      },
      "execution_count": 14,
      "outputs": [
        {
          "output_type": "stream",
          "name": "stdout",
          "text": [
            "<NumpyExtensionArray>\n",
            "[0, 1, 2, 3, 4, 5, 6, 7]\n",
            "Length: 8, dtype: int64\n",
            "[['python' 1 1 100]\n",
            " ['java' 2 4 200]\n",
            " ['c' 8 5 300]\n",
            " ['c++' 6 6 400]\n",
            " ['kotlin' 5 8 500]\n",
            " ['c#' 7 2 600]\n",
            " ['javascript' 3 3 700]\n",
            " ['php' 4 7 800]]\n"
          ]
        }
      ]
    },
    {
      "cell_type": "code",
      "source": [
        "# we can sort row and columns of data set using sort_index function as\n",
        "# axis = 0 for sorting as rows and axis = 1 for sorting as column\n",
        "print(csv_var)\n",
        "print(csv_var.sort_index(axis=0, ascending = False)) # ascending is false means sorting in descensing order\n"
      ],
      "metadata": {
        "colab": {
          "base_uri": "https://localhost:8080/"
        },
        "collapsed": true,
        "id": "yYKGh9ZF3Do4",
        "outputId": "2d6d3b51-843b-4a1c-fcbc-5b47041a33b5"
      },
      "execution_count": 16,
      "outputs": [
        {
          "output_type": "stream",
          "name": "stdout",
          "text": [
            "    languages  rankings  popularity  salary\n",
            "0      python         1           1     100\n",
            "1        java         2           4     200\n",
            "2           c         8           5     300\n",
            "3         c++         6           6     400\n",
            "4      kotlin         5           8     500\n",
            "5          c#         7           2     600\n",
            "6  javascript         3           3     700\n",
            "7         php         4           7     800\n",
            "    languages  rankings  popularity  salary\n",
            "7         php         4           7     800\n",
            "6  javascript         3           3     700\n",
            "5          c#         7           2     600\n",
            "4      kotlin         5           8     500\n",
            "3         c++         6           6     400\n",
            "2           c         8           5     300\n",
            "1        java         2           4     200\n",
            "0      python         1           1     100\n"
          ]
        }
      ]
    },
    {
      "cell_type": "code",
      "source": [
        "# loc and iloc function are used to acces particular data of data set loc use nominal and numerial argument and iloc used numerical argument\n",
        "print(csv_var.loc[1,'languages'])\n",
        "\n",
        "print(csv_var.iloc[2,3])"
      ],
      "metadata": {
        "colab": {
          "base_uri": "https://localhost:8080/"
        },
        "id": "593gqKbD4xVv",
        "outputId": "3b21ca21-68ce-411c-cc71-61bf0d468fc4"
      },
      "execution_count": 21,
      "outputs": [
        {
          "output_type": "stream",
          "name": "stdout",
          "text": [
            "java\n",
            "300\n"
          ]
        }
      ]
    },
    {
      "cell_type": "code",
      "source": [
        "# we can drop particular column or row using drop function\n",
        "print(csv_var.drop(1,axis=0))\n",
        "print(csv_var.drop('languages',axis=1))"
      ],
      "metadata": {
        "colab": {
          "base_uri": "https://localhost:8080/"
        },
        "id": "17B87CnZ4xLa",
        "outputId": "050ffd14-373e-4f6d-fda2-af6e7b829a7e"
      },
      "execution_count": 29,
      "outputs": [
        {
          "output_type": "stream",
          "name": "stdout",
          "text": [
            "    languages  rankings  popularity  salary\n",
            "0      python         1           1     100\n",
            "2           c         8           5     300\n",
            "3         c++         6           6     400\n",
            "4      kotlin         5           8     500\n",
            "5          c#         7           2     600\n",
            "6  javascript         3           3     700\n",
            "7         php         4           7     800\n",
            "   rankings  popularity  salary\n",
            "0         1           1     100\n",
            "1         2           4     200\n",
            "2         8           5     300\n",
            "3         6           6     400\n",
            "4         5           8     500\n",
            "5         7           2     600\n",
            "6         3           3     700\n",
            "7         4           7     800\n"
          ]
        }
      ]
    }
  ]
}