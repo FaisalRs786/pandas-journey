{
  "nbformat": 4,
  "nbformat_minor": 0,
  "metadata": {
    "colab": {
      "provenance": []
    },
    "kernelspec": {
      "name": "python3",
      "display_name": "Python 3"
    },
    "language_info": {
      "name": "python"
    }
  },
  "cells": [
    {
      "cell_type": "markdown",
      "source": [
        "**MERGE() FUNCTION**"
      ],
      "metadata": {
        "id": "RrEpxBO8UsEa"
      }
    },
    {
      "cell_type": "code",
      "execution_count": 41,
      "metadata": {
        "colab": {
          "base_uri": "https://localhost:8080/"
        },
        "id": "lSRCXqHDUl3M",
        "outputId": "03f84546-d942-4d74-d958-0f4fe6d99e20"
      },
      "outputs": [
        {
          "output_type": "stream",
          "name": "stdout",
          "text": [
            "   a  b\n",
            "0  1  6\n",
            "1  2  7\n",
            "2  3  8\n",
            "3  4  9\n",
            "4  5  0\n",
            "   a   b\n",
            "0  1  16\n",
            "1  2  17\n",
            "2  3  18\n",
            "3  4  19\n",
            "4  5  20\n",
            "   a  bking1  bking\n",
            "0  1       6     16\n",
            "1  2       7     17\n",
            "2  3       8     18\n",
            "3  4       9     19\n",
            "4  5       0     20\n"
          ]
        }
      ],
      "source": [
        "# here i apply merge() to data frames\n",
        "import pandas as pd\n",
        "var1 = {'a':[1,2,3,4,5],\n",
        "       'b':[6,7,8,9,0],}\n",
        "var2 = {'a':[1,2,3,4,5],\n",
        "        'b':[16,17,18,19,20]}\n",
        "dt_var1 = pd.DataFrame(var1)\n",
        "dt_var2 = pd.DataFrame(var2)\n",
        "print(dt_var1)\n",
        "print(dt_var2)\n",
        "print(pd.merge(dt_var1, dt_var2, on= 'a',suffixes = ('king1','king')))\n",
        "\n"
      ]
    },
    {
      "cell_type": "markdown",
      "source": [
        "**CONCAT FUNCTION**"
      ],
      "metadata": {
        "id": "TnY3iYjydGl3"
      }
    },
    {
      "cell_type": "code",
      "source": [
        "import pandas as pd\n",
        "var1 = {'a':[1,2,3,4,5],\n",
        "       'b':[6,7,8,9,0],}\n",
        "var2 = {'a':[1,2,3,4,5],\n",
        "        'c':[16,17,18,19,20]}\n",
        "dt_var1 = pd.DataFrame(var1)\n",
        "dt_var2 = pd.DataFrame(var2)\n",
        "\n",
        "# CONCAT TWO DATAFRAMES\n",
        "print(pd.concat([dt_var1, dt_var2], axis =0 ,join = 'outer'))"
      ],
      "metadata": {
        "colab": {
          "base_uri": "https://localhost:8080/"
        },
        "id": "1lZh2Gg2dFoc",
        "outputId": "8a71e0d6-cac5-4622-c6ef-040be5d06a61"
      },
      "execution_count": 49,
      "outputs": [
        {
          "output_type": "stream",
          "name": "stdout",
          "text": [
            "   a    b     c\n",
            "0  1  6.0   NaN\n",
            "1  2  7.0   NaN\n",
            "2  3  8.0   NaN\n",
            "3  4  9.0   NaN\n",
            "4  5  0.0   NaN\n",
            "0  1  NaN  16.0\n",
            "1  2  NaN  17.0\n",
            "2  3  NaN  18.0\n",
            "3  4  NaN  19.0\n",
            "4  5  NaN  20.0\n"
          ]
        }
      ]
    }
  ]
}